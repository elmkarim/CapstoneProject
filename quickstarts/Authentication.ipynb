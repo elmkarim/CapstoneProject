{
  "cells": [
    {
      "cell_type": "markdown",
      "metadata": {
        "id": "Tce3stUlHN0L"
      },
      "source": [
        "##### Copyright 2025 Google LLC."
      ]
    },
    {
      "cell_type": "code",
      "execution_count": null,
      "metadata": {
        "cellView": "form",
        "id": "tuOe1ymfHZPu"
      },
      "outputs": [],
      "source": [
        "# @title Licensed under the Apache License, Version 2.0 (the \"License\");\n",
        "# you may not use this file except in compliance with the License.\n",
        "# You may obtain a copy of the License at\n",
        "#\n",
        "# https://www.apache.org/licenses/LICENSE-2.0\n",
        "#\n",
        "# Unless required by applicable law or agreed to in writing, software\n",
        "# distributed under the License is distributed on an \"AS IS\" BASIS,\n",
        "# WITHOUT WARRANTIES OR CONDITIONS OF ANY KIND, either express or implied.\n",
        "# See the License for the specific language governing permissions and\n",
        "# limitations under the License."
      ]
    },
    {
      "cell_type": "markdown",
      "metadata": {
        "id": "yeadDkMiISin"
      },
      "source": [
        "# Gemini API: Authentication Quickstart"
      ]
    },
    {
      "cell_type": "markdown",
      "metadata": {
        "id": "lEXQ3OwKIa-O"
      },
      "source": [
        "<a target=\"_blank\" href=\"https://colab.research.google.com/github/google-gemini/cookbook/blob/main/quickstarts/Authentication.ipynb\"><img src=\"https://colab.research.google.com/assets/colab-badge.svg\" height=30/></a>"
      ]
    },
    {
      "cell_type": "markdown",
      "metadata": {
        "id": "df1767a3d1cc"
      },
      "source": [
        "The Gemini API uses API keys for authentication. This notebook walks you through creating an API key, and using it with the Python SDK or a command-line tool like `curl`."
      ]
    },
    {
      "cell_type": "markdown",
      "metadata": {
        "id": "mhFKmRmxi5B-"
      },
      "source": [
        "## Create an API key\n",
        "\n",
        "You can [create](https://aistudio.google.com/app/apikey) your API key using Google AI Studio with a single click.  \n",
        "\n",
        "Remember to treat your API key like a password. Don't accidentally save it in a notebook or source file you later commit to GitHub. This notebook shows you two ways you can securely store your API key.\n",
        "\n",
        "* If you're using Google Colab, it's recommended to store your key in Colab Secrets.\n",
        "\n",
        "* If you're using a different development environment (or calling the Gemini API through `cURL` in your terminal), it's recommended to store your key in an [environment variable](https://en.wikipedia.org/wiki/Environment_variable).\n",
        "\n",
        "Let's start with Colab Secrets."
      ]
    },
    {
      "cell_type": "markdown",
      "metadata": {
        "id": "dEoigYI9Jw_K"
      },
      "source": [
        "## Add your key to Colab Secrets\n",
        "\n",
        "Add your API key to the Colab Secrets manager to securely store it.\n",
        "\n",
        "1. Open your Google Colab notebook and click on the 🔑 **Secrets** tab in the left panel.\n",
        "   \n",
        "   <img src=\"https://storage.googleapis.com/generativeai-downloads/images/secrets.jpg\" alt=\"You can find the Secrets tab on the left panel.\" width=50%>\n",
        "\n",
        "2. Create a new secret with the name `GOOGLE_API_KEY`.\n",
        "3. Copy and paste your API key into the `Value` input box of `GOOGLE_API_KEY`.\n",
        "4. Toggle the button on the left to allow all notebooks access to the secret.\n"
      ]
    },
    {
      "cell_type": "markdown",
      "metadata": {
        "id": "jRY1eioF4gUB"
      },
      "source": [
        "## Install the Python SDK"
      ]
    },
    {
      "cell_type": "code",
      "execution_count": 1,
      "metadata": {
        "id": "xuiLSV7amy3P",
        "outputId": "238824ce-07c5-4950-ec04-cc3a62d74a4e",
        "colab": {
          "base_uri": "https://localhost:8080/"
        }
      },
      "outputs": [
        {
          "output_type": "stream",
          "name": "stdout",
          "text": [
            "\u001b[?25l   \u001b[90m━━━━━━━━━━━━━━━━━━━━━━━━━━━━━━━━━━━━━━━━\u001b[0m \u001b[32m0.0/196.3 kB\u001b[0m \u001b[31m?\u001b[0m eta \u001b[36m-:--:--\u001b[0m\r\u001b[2K   \u001b[91m━━━━━━━━━━━━━━━━━━━━━━━━━━━━━━━━━━━━━━━\u001b[0m\u001b[91m╸\u001b[0m \u001b[32m194.6/196.3 kB\u001b[0m \u001b[31m14.2 MB/s\u001b[0m eta \u001b[36m0:00:01\u001b[0m\r\u001b[2K   \u001b[90m━━━━━━━━━━━━━━━━━━━━━━━━━━━━━━━━━━━━━━━━\u001b[0m \u001b[32m196.3/196.3 kB\u001b[0m \u001b[31m3.8 MB/s\u001b[0m eta \u001b[36m0:00:00\u001b[0m\n",
            "\u001b[?25h"
          ]
        }
      ],
      "source": [
        "%pip install -qU 'google-genai>=1.0.0'"
      ]
    },
    {
      "cell_type": "markdown",
      "metadata": {
        "id": "3dw8ygh74mVc"
      },
      "source": [
        "## Configure the SDK with your API key\n",
        "\n",
        "You create a client using your API key, but instead of pasting your key into the notebook, you'll read it from Colab Secrets thanks to `userdata`."
      ]
    },
    {
      "cell_type": "code",
      "execution_count": 2,
      "metadata": {
        "id": "DTl-qZp34sht"
      },
      "outputs": [],
      "source": [
        "from google import genai\n",
        "from google.colab import userdata\n",
        "\n",
        "GOOGLE_API_KEY = userdata.get('GOOGLE_API_KEY')\n",
        "client = genai.Client(api_key=GOOGLE_API_KEY)"
      ]
    },
    {
      "cell_type": "markdown",
      "metadata": {
        "id": "b7ceb7517bf5"
      },
      "source": [
        "Now choose a model. The Gemini API offers different models that are optimized for specific use cases. For more information check [Gemini models](https://ai.google.dev/gemini-api/docs/models)"
      ]
    },
    {
      "cell_type": "code",
      "execution_count": 4,
      "metadata": {
        "id": "7135d9ae3e4b"
      },
      "outputs": [],
      "source": [
        "MODEL_ID = \"gemini-2.5-flash-preview-05-20\" # @param [\"gemini-2.0-flash-lite\",\"gemini-2.0-flash\",\"gemini-2.5-flash-preview-05-20\",\"gemini-2.5-pro-preview-05-06\"] {\"allow-input\":true, isTemplate: true}"
      ]
    },
    {
      "cell_type": "markdown",
      "metadata": {
        "id": "tr7oAO6-nMsE"
      },
      "source": [
        "And that's it! Now you're ready to call the Gemini API."
      ]
    },
    {
      "cell_type": "code",
      "execution_count": 5,
      "metadata": {
        "id": "n6sXnWrJoKoo",
        "outputId": "fab6832b-d741-4ba9-d9bb-9d3dd55710de",
        "colab": {
          "base_uri": "https://localhost:8080/",
          "height": 1000
        }
      },
      "outputs": [
        {
          "output_type": "display_data",
          "data": {
            "text/plain": [
              "<IPython.core.display.Markdown object>"
            ],
            "text/markdown": "Python offers very convenient and efficient ways to sort lists using built-in functions and methods.\n\nThere are two primary ways to sort a list in Python:\n\n1.  **`list.sort()` method:** Sorts the list **in-place** (modifies the original list) and returns `None`.\n2.  **`sorted()` function:** Returns a **new sorted list** and leaves the original list unchanged. This function can sort any iterable (not just lists).\n\nLet's look at examples for both, along with common customizations.\n\n---\n\n## 1. Using `list.sort()` (In-Place Sorting)\n\nThis method belongs to the list object itself.\n\n```python\nmy_list = [3, 1, 4, 1, 5, 9, 2, 6]\n\nprint(\"Original list:\", my_list)\n\n# Sort the list in-place (ascending by default)\nmy_list.sort()\n\nprint(\"Sorted list (in-place):\", my_list)\n\n# Example with strings\nwords = [\"banana\", \"apple\", \"cherry\", \"date\"]\nwords.sort()\nprint(\"Sorted words (in-place):\", words)\n\n# Example with mixed types (will raise TypeError if elements are not comparable)\n# mixed_list = [1, \"hello\", 3]\n# mixed_list.sort() # This would raise an error as int and str cannot be compared directly\n```\n\n**Key Characteristics of `list.sort()`:**\n\n*   **Modifies Original:** It changes the list directly.\n*   **Returns `None`:** It doesn't return the sorted list; it returns `None`. If you try `new_list = my_list.sort()`, `new_list` will be `None`.\n*   **Only for Lists:** Can only be called on list objects.\n\n---\n\n## 2. Using `sorted()` Function (Returns New List)\n\nThis is a built-in Python function that can take any iterable (list, tuple, set, string, etc.) and returns a new sorted list.\n\n```python\nmy_list = [3, 1, 4, 1, 5, 9, 2, 6]\n\nprint(\"Original list:\", my_list)\n\n# Get a new sorted list (ascending by default)\nnew_sorted_list = sorted(my_list)\n\nprint(\"Original list (unchanged):\", my_list)\nprint(\"New sorted list:\", new_sorted_list)\n\n# Example with a tuple (sorted() can sort any iterable)\nmy_tuple = (5, 2, 8, 1, 9)\nsorted_tuple_as_list = sorted(my_tuple)\nprint(\"Original tuple:\", my_tuple)\nprint(\"Sorted tuple (as new list):\", sorted_tuple_as_list)\n```\n\n**Key Characteristics of `sorted()`:**\n\n*   **Returns New List:** Creates a new list containing the sorted elements.\n*   **Leaves Original Unchanged:** The original iterable is not modified.\n*   **Works on Any Iterable:** Can sort lists, tuples, sets, strings (sorting characters), dictionaries (sorting keys), etc.\n\n---\n\n## Common Customizations for Sorting\n\nBoth `list.sort()` and `sorted()` accept optional arguments for more control:\n\n### a) `reverse=True` (Descending Order)\n\nTo sort in descending order, pass `reverse=True`.\n\n```python\nnumbers = [3, 1, 4, 1, 5, 9, 2, 6]\n\n# Using sort()\nnumbers.sort(reverse=True)\nprint(\"Sorted descending (in-place):\", numbers) # Output: [9, 6, 5, 4, 3, 2, 1, 1]\n\n# Using sorted()\ndata = [10, 40, 20, 50, 30]\ndesc_sorted_data = sorted(data, reverse=True)\nprint(\"Sorted descending (new list):\", desc_sorted_data) # Output: [50, 40, 30, 20, 10]\n```\n\n### b) `key` Argument (Custom Sorting)\n\nThe `key` argument specifies a function to be called on each element prior to making comparisons. The value returned by this function is used for sorting.\n\n#### Example 1: Sorting strings by length\n\n```python\nwords = [\"apple\", \"banana\", \"kiwi\", \"grapefruit\", \"cat\"]\n\n# Sort by length of the string\nsorted_by_length = sorted(words, key=len)\nprint(\"Sorted by length:\", sorted_by_length) # Output: ['cat', 'kiwi', 'apple', 'banana', 'grapefruit']\n\n# Sort by length in reverse order\nsorted_by_length_desc = sorted(words, key=len, reverse=True)\nprint(\"Sorted by length descending:\", sorted_by_length_desc)\n# Output: ['grapefruit', 'banana', 'apple', 'kiwi', 'cat']\n```\n\n#### Example 2: Case-insensitive string sorting\n\n```python\nnames = [\"Alice\", \"bob\", \"Charlie\", \"david\"]\n\n# Sort case-insensitively using str.lower\nsorted_names = sorted(names, key=str.lower)\nprint(\"Sorted case-insensitively:\", sorted_names) # Output: ['Alice', 'bob', 'Charlie', 'david']\n```\n\n#### Example 3: Sorting a list of dictionaries by a specific value\n\nYou'll often use `lambda` functions for `key` when sorting complex objects.\n\n```python\nstudents = [\n    {'name': 'Alice', 'age': 30, 'score': 85},\n    {'name': 'Bob', 'age': 25, 'score': 92},\n    {'name': 'Charlie', 'age': 35, 'score': 78},\n    {'name': 'David', 'age': 25, 'score': 95} # Added another student with age 25\n]\n\n# Sort by 'age'\nsorted_by_age = sorted(students, key=lambda student: student['age'])\nprint(\"Sorted by age:\\n\", sorted_by_age)\n# Output:\n# [{'name': 'Bob', 'age': 25, 'score': 92},\n#  {'name': 'David', 'age': 25, 'score': 95},  <- Original order preserved for ties (stable sort)\n#  {'name': 'Alice', 'age': 30, 'score': 85},\n#  {'name': 'Charlie', 'age': 35, 'score': 78}]\n\n# Sort by 'score' in descending order\nsorted_by_score_desc = sorted(students, key=lambda student: student['score'], reverse=True)\nprint(\"\\nSorted by score (descending):\\n\", sorted_by_score_desc)\n# Output:\n# [{'name': 'David', 'age': 25, 'score': 95},\n#  {'name': 'Bob', 'age': 25, 'score': 92},\n#  {'name': 'Alice', 'age': 30, 'score': 85},\n#  {'name': 'Charlie', 'age': 35, 'score': 78}]\n\n# Sort by age, then by score (for ties in age)\n# This is done by returning a tuple from the key function\nsorted_by_age_then_score = sorted(students, key=lambda student: (student['age'], student['score']))\nprint(\"\\nSorted by age, then score:\\n\", sorted_by_age_then_score)\n# Output:\n# [{'name': 'Bob', 'age': 25, 'score': 92},\n#  {'name': 'David', 'age': 25, 'score': 95}, <- David now comes after Bob because 95 > 92\n#  {'name': 'Alice', 'age': 30, 'score': 85},\n#  {'name': 'Charlie', 'age': 35, 'score': 78}]\n```\n\n---\n\n## When to use which?\n\n*   Use `list.sort()`:\n    *   When you **don't need to preserve the original list**.\n    *   When working with large lists, it can be slightly more memory-efficient as it doesn't create a copy.\n\n*   Use `sorted()`:\n    *   When you **need to keep the original list unchanged**.\n    *   When you want to sort any other iterable (tuple, set, string, generator, etc.) and get a new list.\n\nPython's built-in sorting (Timsort) is very efficient and stable (meaning elements with equal keys maintain their original order)."
          },
          "metadata": {}
        }
      ],
      "source": [
        "from IPython.display import Markdown\n",
        "\n",
        "response = client.models.generate_content(\n",
        "    model=MODEL_ID,\n",
        "    contents=\"Please give me python code to sort a list.\"\n",
        ")\n",
        "\n",
        "display(Markdown(response.text))"
      ]
    },
    {
      "cell_type": "markdown",
      "metadata": {
        "id": "BTdQtZri1Brs"
      },
      "source": [
        "## Store your key in an environment variable"
      ]
    },
    {
      "cell_type": "markdown",
      "metadata": {
        "id": "gZDX51Y27pN4"
      },
      "source": [
        "If you're using a different development environment (or calling the Gemini API through `cURL` in your terminal), it's recommended to store your key in an environment variable.\n",
        "\n",
        "To store your key in an environment variable, open your terminal and run:\n",
        "\n",
        "```export GOOGLE_API_KEY=\"YOUR_API_KEY\"```\n",
        "\n",
        "If you're using Python, you can add these two lines to your notebook to read the key:\n",
        "\n",
        "```\n",
        "import os\n",
        "client = genai.Client(api_key=os.environ['GOOGLE_API_KEY'])\n",
        "```\n",
        "\n",
        "Alternatively, if it isn't provided explicitly, the client will look for the API key.\n",
        "\n",
        "```\n",
        "client = genai.Client()\n",
        "```\n",
        "\n",
        "Or, if you're calling the API through your terminal using `cURL`, you can copy and paste this code to read your key from the environment variable.\n",
        "\n",
        "```\n",
        "curl \"https://generativelanguage.googleapis.com/v1beta/models/gemini-2.0-flash:generateContent?key=$GOOGLE_API_KEY\" \\\n",
        "    -H 'Content-Type: application/json' \\\n",
        "    -X POST \\\n",
        "    -d '{\n",
        "      \"contents\": [{\n",
        "        \"parts\":[{\n",
        "          \"text\": \"Please give me Python code to sort a list.\"\n",
        "        }]\n",
        "      }]\n",
        "    }'\n",
        "```\n"
      ]
    },
    {
      "cell_type": "markdown",
      "metadata": {
        "id": "CAOKOcax1xZY"
      },
      "source": [
        "## Learning more\n",
        "\n",
        "Now that you know how to manage your API key, you've everything to [get started](./Get_started.ipynb) with Gemini. Check all the [quickstart guides](https://github.com/google-gemini/cookbook/tree/main/quickstarts) from the Cookbook, and in particular the [Get started](./Get_started.ipynb) one."
      ]
    }
  ],
  "metadata": {
    "colab": {
      "name": "Authentication.ipynb",
      "provenance": []
    },
    "google": {
      "image_path": "/site-assets/images/share.png",
      "keywords": [
        "examples",
        "googleai",
        "samplecode",
        "python",
        "embed",
        "function"
      ]
    },
    "kernelspec": {
      "display_name": "Python 3",
      "name": "python3"
    }
  },
  "nbformat": 4,
  "nbformat_minor": 0
}